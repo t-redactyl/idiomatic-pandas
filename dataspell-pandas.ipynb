{
 "cells": [
  {
   "cell_type": "markdown",
   "source": [
    "# Using Pandas within DataSpell\n",
    "\n",
    "Support for Pandas DataFrames is a core part of the functionality of DataSpell. Here are a few of the features that make working with Pandas easier.\n",
    "\n",
    "## Interactive Pandas DataFrames\n",
    "\n",
    "Within DataSpell, users can interact with Pandas DataFrames. This includes:\n",
    "* displaying the entire DataFrame without trimming;\n",
    "* changing the column sizes for readability;\n",
    "* opening DataFrames in new tabs; and\n",
    "* being able to order, copy and save DataFrames."
   ],
   "metadata": {
    "collapsed": false,
    "pycharm": {
     "name": "#%% md\n"
    }
   }
  },
  {
   "cell_type": "code",
   "execution_count": 2,
   "outputs": [],
   "source": [
    "import pandas as pd"
   ],
   "metadata": {
    "collapsed": false,
    "pycharm": {
     "name": "#%%\n"
    }
   }
  },
  {
   "cell_type": "code",
   "execution_count": 3,
   "outputs": [
    {
     "name": "stderr",
     "output_type": "stream",
     "text": [
      "/var/folders/4g/2kb_r2ls6271vlhh6xr95q_w0000gn/T/ipykernel_4214/373335790.py:1: DtypeWarning: Columns (68,70,71,72,73,74,76,79) have mixed types. Specify dtype option on import or set low_memory=False.\n",
      "  autos = pd.read_csv('https://github.com/mattharrison/datasets/raw/master/data/vehicles.csv.zip')\n"
     ]
    }
   ],
   "source": [
    "autos = pd.read_csv('https://github.com/mattharrison/datasets/raw/master/data/vehicles.csv.zip')"
   ],
   "metadata": {
    "collapsed": false,
    "pycharm": {
     "name": "#%%\n"
    }
   }
  },
  {
   "cell_type": "code",
   "execution_count": 4,
   "outputs": [
    {
     "data": {
      "text/plain": "       barrels08  barrelsA08  charge120  charge240  city08  city08U  cityA08  \\\n0      15.695714         0.0        0.0        0.0      19      0.0        0   \n1      29.964545         0.0        0.0        0.0       9      0.0        0   \n2      12.207778         0.0        0.0        0.0      23      0.0        0   \n3      29.964545         0.0        0.0        0.0      10      0.0        0   \n4      17.347895         0.0        0.0        0.0      17      0.0        0   \n...          ...         ...        ...        ...     ...      ...      ...   \n41139  14.982273         0.0        0.0        0.0      19      0.0        0   \n41140  14.330870         0.0        0.0        0.0      20      0.0        0   \n41141  15.695714         0.0        0.0        0.0      18      0.0        0   \n41142  15.695714         0.0        0.0        0.0      18      0.0        0   \n41143  18.311667         0.0        0.0        0.0      16      0.0        0   \n\n       cityA08U  cityCD  cityE  ...  mfrCode  c240Dscr  charge240b  c240bDscr  \\\n0           0.0     0.0    0.0  ...      NaN       NaN         0.0        NaN   \n1           0.0     0.0    0.0  ...      NaN       NaN         0.0        NaN   \n2           0.0     0.0    0.0  ...      NaN       NaN         0.0        NaN   \n3           0.0     0.0    0.0  ...      NaN       NaN         0.0        NaN   \n4           0.0     0.0    0.0  ...      NaN       NaN         0.0        NaN   \n...         ...     ...    ...  ...      ...       ...         ...        ...   \n41139       0.0     0.0    0.0  ...      NaN       NaN         0.0        NaN   \n41140       0.0     0.0    0.0  ...      NaN       NaN         0.0        NaN   \n41141       0.0     0.0    0.0  ...      NaN       NaN         0.0        NaN   \n41142       0.0     0.0    0.0  ...      NaN       NaN         0.0        NaN   \n41143       0.0     0.0    0.0  ...      NaN       NaN         0.0        NaN   \n\n                          createdOn                    modifiedOn  startStop  \\\n0      Tue Jan 01 00:00:00 EST 2013  Tue Jan 01 00:00:00 EST 2013        NaN   \n1      Tue Jan 01 00:00:00 EST 2013  Tue Jan 01 00:00:00 EST 2013        NaN   \n2      Tue Jan 01 00:00:00 EST 2013  Tue Jan 01 00:00:00 EST 2013        NaN   \n3      Tue Jan 01 00:00:00 EST 2013  Tue Jan 01 00:00:00 EST 2013        NaN   \n4      Tue Jan 01 00:00:00 EST 2013  Tue Jan 01 00:00:00 EST 2013        NaN   \n...                             ...                           ...        ...   \n41139  Tue Jan 01 00:00:00 EST 2013  Tue Jan 01 00:00:00 EST 2013        NaN   \n41140  Tue Jan 01 00:00:00 EST 2013  Tue Jan 01 00:00:00 EST 2013        NaN   \n41141  Tue Jan 01 00:00:00 EST 2013  Tue Jan 01 00:00:00 EST 2013        NaN   \n41142  Tue Jan 01 00:00:00 EST 2013  Tue Jan 01 00:00:00 EST 2013        NaN   \n41143  Tue Jan 01 00:00:00 EST 2013  Tue Jan 01 00:00:00 EST 2013        NaN   \n\n       phevCity  phevHwy  phevComb  \n0             0        0         0  \n1             0        0         0  \n2             0        0         0  \n3             0        0         0  \n4             0        0         0  \n...         ...      ...       ...  \n41139         0        0         0  \n41140         0        0         0  \n41141         0        0         0  \n41142         0        0         0  \n41143         0        0         0  \n\n[41144 rows x 83 columns]",
      "text/html": "<div>\n<style scoped>\n    .dataframe tbody tr th:only-of-type {\n        vertical-align: middle;\n    }\n\n    .dataframe tbody tr th {\n        vertical-align: top;\n    }\n\n    .dataframe thead th {\n        text-align: right;\n    }\n</style>\n<table border=\"1\" class=\"dataframe\">\n  <thead>\n    <tr style=\"text-align: right;\">\n      <th></th>\n      <th>barrels08</th>\n      <th>barrelsA08</th>\n      <th>charge120</th>\n      <th>charge240</th>\n      <th>city08</th>\n      <th>city08U</th>\n      <th>cityA08</th>\n      <th>cityA08U</th>\n      <th>cityCD</th>\n      <th>cityE</th>\n      <th>...</th>\n      <th>mfrCode</th>\n      <th>c240Dscr</th>\n      <th>charge240b</th>\n      <th>c240bDscr</th>\n      <th>createdOn</th>\n      <th>modifiedOn</th>\n      <th>startStop</th>\n      <th>phevCity</th>\n      <th>phevHwy</th>\n      <th>phevComb</th>\n    </tr>\n  </thead>\n  <tbody>\n    <tr>\n      <th>0</th>\n      <td>15.695714</td>\n      <td>0.0</td>\n      <td>0.0</td>\n      <td>0.0</td>\n      <td>19</td>\n      <td>0.0</td>\n      <td>0</td>\n      <td>0.0</td>\n      <td>0.0</td>\n      <td>0.0</td>\n      <td>...</td>\n      <td>NaN</td>\n      <td>NaN</td>\n      <td>0.0</td>\n      <td>NaN</td>\n      <td>Tue Jan 01 00:00:00 EST 2013</td>\n      <td>Tue Jan 01 00:00:00 EST 2013</td>\n      <td>NaN</td>\n      <td>0</td>\n      <td>0</td>\n      <td>0</td>\n    </tr>\n    <tr>\n      <th>1</th>\n      <td>29.964545</td>\n      <td>0.0</td>\n      <td>0.0</td>\n      <td>0.0</td>\n      <td>9</td>\n      <td>0.0</td>\n      <td>0</td>\n      <td>0.0</td>\n      <td>0.0</td>\n      <td>0.0</td>\n      <td>...</td>\n      <td>NaN</td>\n      <td>NaN</td>\n      <td>0.0</td>\n      <td>NaN</td>\n      <td>Tue Jan 01 00:00:00 EST 2013</td>\n      <td>Tue Jan 01 00:00:00 EST 2013</td>\n      <td>NaN</td>\n      <td>0</td>\n      <td>0</td>\n      <td>0</td>\n    </tr>\n    <tr>\n      <th>2</th>\n      <td>12.207778</td>\n      <td>0.0</td>\n      <td>0.0</td>\n      <td>0.0</td>\n      <td>23</td>\n      <td>0.0</td>\n      <td>0</td>\n      <td>0.0</td>\n      <td>0.0</td>\n      <td>0.0</td>\n      <td>...</td>\n      <td>NaN</td>\n      <td>NaN</td>\n      <td>0.0</td>\n      <td>NaN</td>\n      <td>Tue Jan 01 00:00:00 EST 2013</td>\n      <td>Tue Jan 01 00:00:00 EST 2013</td>\n      <td>NaN</td>\n      <td>0</td>\n      <td>0</td>\n      <td>0</td>\n    </tr>\n    <tr>\n      <th>3</th>\n      <td>29.964545</td>\n      <td>0.0</td>\n      <td>0.0</td>\n      <td>0.0</td>\n      <td>10</td>\n      <td>0.0</td>\n      <td>0</td>\n      <td>0.0</td>\n      <td>0.0</td>\n      <td>0.0</td>\n      <td>...</td>\n      <td>NaN</td>\n      <td>NaN</td>\n      <td>0.0</td>\n      <td>NaN</td>\n      <td>Tue Jan 01 00:00:00 EST 2013</td>\n      <td>Tue Jan 01 00:00:00 EST 2013</td>\n      <td>NaN</td>\n      <td>0</td>\n      <td>0</td>\n      <td>0</td>\n    </tr>\n    <tr>\n      <th>4</th>\n      <td>17.347895</td>\n      <td>0.0</td>\n      <td>0.0</td>\n      <td>0.0</td>\n      <td>17</td>\n      <td>0.0</td>\n      <td>0</td>\n      <td>0.0</td>\n      <td>0.0</td>\n      <td>0.0</td>\n      <td>...</td>\n      <td>NaN</td>\n      <td>NaN</td>\n      <td>0.0</td>\n      <td>NaN</td>\n      <td>Tue Jan 01 00:00:00 EST 2013</td>\n      <td>Tue Jan 01 00:00:00 EST 2013</td>\n      <td>NaN</td>\n      <td>0</td>\n      <td>0</td>\n      <td>0</td>\n    </tr>\n    <tr>\n      <th>...</th>\n      <td>...</td>\n      <td>...</td>\n      <td>...</td>\n      <td>...</td>\n      <td>...</td>\n      <td>...</td>\n      <td>...</td>\n      <td>...</td>\n      <td>...</td>\n      <td>...</td>\n      <td>...</td>\n      <td>...</td>\n      <td>...</td>\n      <td>...</td>\n      <td>...</td>\n      <td>...</td>\n      <td>...</td>\n      <td>...</td>\n      <td>...</td>\n      <td>...</td>\n      <td>...</td>\n    </tr>\n    <tr>\n      <th>41139</th>\n      <td>14.982273</td>\n      <td>0.0</td>\n      <td>0.0</td>\n      <td>0.0</td>\n      <td>19</td>\n      <td>0.0</td>\n      <td>0</td>\n      <td>0.0</td>\n      <td>0.0</td>\n      <td>0.0</td>\n      <td>...</td>\n      <td>NaN</td>\n      <td>NaN</td>\n      <td>0.0</td>\n      <td>NaN</td>\n      <td>Tue Jan 01 00:00:00 EST 2013</td>\n      <td>Tue Jan 01 00:00:00 EST 2013</td>\n      <td>NaN</td>\n      <td>0</td>\n      <td>0</td>\n      <td>0</td>\n    </tr>\n    <tr>\n      <th>41140</th>\n      <td>14.330870</td>\n      <td>0.0</td>\n      <td>0.0</td>\n      <td>0.0</td>\n      <td>20</td>\n      <td>0.0</td>\n      <td>0</td>\n      <td>0.0</td>\n      <td>0.0</td>\n      <td>0.0</td>\n      <td>...</td>\n      <td>NaN</td>\n      <td>NaN</td>\n      <td>0.0</td>\n      <td>NaN</td>\n      <td>Tue Jan 01 00:00:00 EST 2013</td>\n      <td>Tue Jan 01 00:00:00 EST 2013</td>\n      <td>NaN</td>\n      <td>0</td>\n      <td>0</td>\n      <td>0</td>\n    </tr>\n    <tr>\n      <th>41141</th>\n      <td>15.695714</td>\n      <td>0.0</td>\n      <td>0.0</td>\n      <td>0.0</td>\n      <td>18</td>\n      <td>0.0</td>\n      <td>0</td>\n      <td>0.0</td>\n      <td>0.0</td>\n      <td>0.0</td>\n      <td>...</td>\n      <td>NaN</td>\n      <td>NaN</td>\n      <td>0.0</td>\n      <td>NaN</td>\n      <td>Tue Jan 01 00:00:00 EST 2013</td>\n      <td>Tue Jan 01 00:00:00 EST 2013</td>\n      <td>NaN</td>\n      <td>0</td>\n      <td>0</td>\n      <td>0</td>\n    </tr>\n    <tr>\n      <th>41142</th>\n      <td>15.695714</td>\n      <td>0.0</td>\n      <td>0.0</td>\n      <td>0.0</td>\n      <td>18</td>\n      <td>0.0</td>\n      <td>0</td>\n      <td>0.0</td>\n      <td>0.0</td>\n      <td>0.0</td>\n      <td>...</td>\n      <td>NaN</td>\n      <td>NaN</td>\n      <td>0.0</td>\n      <td>NaN</td>\n      <td>Tue Jan 01 00:00:00 EST 2013</td>\n      <td>Tue Jan 01 00:00:00 EST 2013</td>\n      <td>NaN</td>\n      <td>0</td>\n      <td>0</td>\n      <td>0</td>\n    </tr>\n    <tr>\n      <th>41143</th>\n      <td>18.311667</td>\n      <td>0.0</td>\n      <td>0.0</td>\n      <td>0.0</td>\n      <td>16</td>\n      <td>0.0</td>\n      <td>0</td>\n      <td>0.0</td>\n      <td>0.0</td>\n      <td>0.0</td>\n      <td>...</td>\n      <td>NaN</td>\n      <td>NaN</td>\n      <td>0.0</td>\n      <td>NaN</td>\n      <td>Tue Jan 01 00:00:00 EST 2013</td>\n      <td>Tue Jan 01 00:00:00 EST 2013</td>\n      <td>NaN</td>\n      <td>0</td>\n      <td>0</td>\n      <td>0</td>\n    </tr>\n  </tbody>\n</table>\n<p>41144 rows × 83 columns</p>\n</div>"
     },
     "execution_count": 4,
     "metadata": {},
     "output_type": "execute_result"
    }
   ],
   "source": [
    "autos"
   ],
   "metadata": {
    "collapsed": false,
    "pycharm": {
     "name": "#%%\n"
    }
   }
  },
  {
   "cell_type": "code",
   "execution_count": 9,
   "outputs": [
    {
     "data": {
      "text/plain": "                         drive                     fuelType  meanFuelCost\n0                2-Wheel Drive                       Diesel        2350.0\n1                2-Wheel Drive                  Electricity        1150.0\n2                2-Wheel Drive                      Premium        4000.0\n3                2-Wheel Drive                      Regular        2800.0\n4                4-Wheel Drive                       Diesel        2050.0\n5                4-Wheel Drive                  Electricity         850.0\n6                4-Wheel Drive              Gasoline or E85        2500.0\n7                4-Wheel Drive                     Midgrade        2900.0\n8                4-Wheel Drive                      Premium        2600.0\n9                4-Wheel Drive      Premium and Electricity        2450.0\n10               4-Wheel Drive               Premium or E85        2350.0\n11               4-Wheel Drive                      Regular        2200.0\n12  4-Wheel or All-Wheel Drive                          CNG        3650.0\n13  4-Wheel or All-Wheel Drive                       Diesel        2750.0\n14  4-Wheel or All-Wheel Drive              Gasoline or E85        3000.0\n15  4-Wheel or All-Wheel Drive      Gasoline or natural gas        3675.0\n16  4-Wheel or All-Wheel Drive          Gasoline or propane        3150.0\n17  4-Wheel or All-Wheel Drive                      Premium        2900.0\n18  4-Wheel or All-Wheel Drive               Premium or E85        2600.0\n19  4-Wheel or All-Wheel Drive                      Regular        2650.0\n20             All-Wheel Drive                       Diesel        1700.0\n21             All-Wheel Drive                  Electricity         700.0\n22             All-Wheel Drive              Gasoline or E85        2200.0\n23             All-Wheel Drive                     Midgrade        2725.0\n24             All-Wheel Drive                      Premium        2450.0\n25             All-Wheel Drive   Premium Gas or Electricity        2350.0\n26             All-Wheel Drive      Premium and Electricity        1900.0\n27             All-Wheel Drive               Premium or E85        2350.0\n28             All-Wheel Drive                      Regular        1900.0\n29             All-Wheel Drive  Regular Gas and Electricity        1700.0\n30           Front-Wheel Drive                          CNG        1150.0\n31           Front-Wheel Drive                       Diesel        1450.0\n32           Front-Wheel Drive                  Electricity         600.0\n33           Front-Wheel Drive              Gasoline or E85        1900.0\n34           Front-Wheel Drive      Gasoline or natural gas        1850.0\n35           Front-Wheel Drive                     Midgrade        2000.0\n36           Front-Wheel Drive                      Premium        2350.0\n37           Front-Wheel Drive   Premium Gas or Electricity        1400.0\n38           Front-Wheel Drive      Premium and Electricity        1475.0\n39           Front-Wheel Drive                      Regular        1850.0\n40           Front-Wheel Drive  Regular Gas and Electricity        1025.0\n41           Front-Wheel Drive   Regular Gas or Electricity        1000.0\n42     Part-time 4-Wheel Drive                       Diesel        2150.0\n43     Part-time 4-Wheel Drive              Gasoline or E85        2650.0\n44     Part-time 4-Wheel Drive                      Premium        4000.0\n45     Part-time 4-Wheel Drive                      Regular        2350.0\n46            Rear-Wheel Drive                          CNG        2550.0\n47            Rear-Wheel Drive                       Diesel        2500.0\n48            Rear-Wheel Drive                  Electricity         600.0\n49            Rear-Wheel Drive              Gasoline or E85        2650.0\n50            Rear-Wheel Drive      Gasoline or natural gas        3500.0\n51            Rear-Wheel Drive          Gasoline or propane        3150.0\n52            Rear-Wheel Drive                     Midgrade        2650.0\n53            Rear-Wheel Drive                      Premium        2900.0\n54            Rear-Wheel Drive   Premium Gas or Electricity        1500.0\n55            Rear-Wheel Drive      Premium and Electricity        2000.0\n56            Rear-Wheel Drive               Premium or E85        2600.0\n57            Rear-Wheel Drive                      Regular        2500.0",
      "text/html": "<div>\n<style scoped>\n    .dataframe tbody tr th:only-of-type {\n        vertical-align: middle;\n    }\n\n    .dataframe tbody tr th {\n        vertical-align: top;\n    }\n\n    .dataframe thead th {\n        text-align: right;\n    }\n</style>\n<table border=\"1\" class=\"dataframe\">\n  <thead>\n    <tr style=\"text-align: right;\">\n      <th></th>\n      <th>drive</th>\n      <th>fuelType</th>\n      <th>meanFuelCost</th>\n    </tr>\n  </thead>\n  <tbody>\n    <tr>\n      <th>0</th>\n      <td>2-Wheel Drive</td>\n      <td>Diesel</td>\n      <td>2350.0</td>\n    </tr>\n    <tr>\n      <th>1</th>\n      <td>2-Wheel Drive</td>\n      <td>Electricity</td>\n      <td>1150.0</td>\n    </tr>\n    <tr>\n      <th>2</th>\n      <td>2-Wheel Drive</td>\n      <td>Premium</td>\n      <td>4000.0</td>\n    </tr>\n    <tr>\n      <th>3</th>\n      <td>2-Wheel Drive</td>\n      <td>Regular</td>\n      <td>2800.0</td>\n    </tr>\n    <tr>\n      <th>4</th>\n      <td>4-Wheel Drive</td>\n      <td>Diesel</td>\n      <td>2050.0</td>\n    </tr>\n    <tr>\n      <th>5</th>\n      <td>4-Wheel Drive</td>\n      <td>Electricity</td>\n      <td>850.0</td>\n    </tr>\n    <tr>\n      <th>6</th>\n      <td>4-Wheel Drive</td>\n      <td>Gasoline or E85</td>\n      <td>2500.0</td>\n    </tr>\n    <tr>\n      <th>7</th>\n      <td>4-Wheel Drive</td>\n      <td>Midgrade</td>\n      <td>2900.0</td>\n    </tr>\n    <tr>\n      <th>8</th>\n      <td>4-Wheel Drive</td>\n      <td>Premium</td>\n      <td>2600.0</td>\n    </tr>\n    <tr>\n      <th>9</th>\n      <td>4-Wheel Drive</td>\n      <td>Premium and Electricity</td>\n      <td>2450.0</td>\n    </tr>\n    <tr>\n      <th>10</th>\n      <td>4-Wheel Drive</td>\n      <td>Premium or E85</td>\n      <td>2350.0</td>\n    </tr>\n    <tr>\n      <th>11</th>\n      <td>4-Wheel Drive</td>\n      <td>Regular</td>\n      <td>2200.0</td>\n    </tr>\n    <tr>\n      <th>12</th>\n      <td>4-Wheel or All-Wheel Drive</td>\n      <td>CNG</td>\n      <td>3650.0</td>\n    </tr>\n    <tr>\n      <th>13</th>\n      <td>4-Wheel or All-Wheel Drive</td>\n      <td>Diesel</td>\n      <td>2750.0</td>\n    </tr>\n    <tr>\n      <th>14</th>\n      <td>4-Wheel or All-Wheel Drive</td>\n      <td>Gasoline or E85</td>\n      <td>3000.0</td>\n    </tr>\n    <tr>\n      <th>15</th>\n      <td>4-Wheel or All-Wheel Drive</td>\n      <td>Gasoline or natural gas</td>\n      <td>3675.0</td>\n    </tr>\n    <tr>\n      <th>16</th>\n      <td>4-Wheel or All-Wheel Drive</td>\n      <td>Gasoline or propane</td>\n      <td>3150.0</td>\n    </tr>\n    <tr>\n      <th>17</th>\n      <td>4-Wheel or All-Wheel Drive</td>\n      <td>Premium</td>\n      <td>2900.0</td>\n    </tr>\n    <tr>\n      <th>18</th>\n      <td>4-Wheel or All-Wheel Drive</td>\n      <td>Premium or E85</td>\n      <td>2600.0</td>\n    </tr>\n    <tr>\n      <th>19</th>\n      <td>4-Wheel or All-Wheel Drive</td>\n      <td>Regular</td>\n      <td>2650.0</td>\n    </tr>\n    <tr>\n      <th>20</th>\n      <td>All-Wheel Drive</td>\n      <td>Diesel</td>\n      <td>1700.0</td>\n    </tr>\n    <tr>\n      <th>21</th>\n      <td>All-Wheel Drive</td>\n      <td>Electricity</td>\n      <td>700.0</td>\n    </tr>\n    <tr>\n      <th>22</th>\n      <td>All-Wheel Drive</td>\n      <td>Gasoline or E85</td>\n      <td>2200.0</td>\n    </tr>\n    <tr>\n      <th>23</th>\n      <td>All-Wheel Drive</td>\n      <td>Midgrade</td>\n      <td>2725.0</td>\n    </tr>\n    <tr>\n      <th>24</th>\n      <td>All-Wheel Drive</td>\n      <td>Premium</td>\n      <td>2450.0</td>\n    </tr>\n    <tr>\n      <th>25</th>\n      <td>All-Wheel Drive</td>\n      <td>Premium Gas or Electricity</td>\n      <td>2350.0</td>\n    </tr>\n    <tr>\n      <th>26</th>\n      <td>All-Wheel Drive</td>\n      <td>Premium and Electricity</td>\n      <td>1900.0</td>\n    </tr>\n    <tr>\n      <th>27</th>\n      <td>All-Wheel Drive</td>\n      <td>Premium or E85</td>\n      <td>2350.0</td>\n    </tr>\n    <tr>\n      <th>28</th>\n      <td>All-Wheel Drive</td>\n      <td>Regular</td>\n      <td>1900.0</td>\n    </tr>\n    <tr>\n      <th>29</th>\n      <td>All-Wheel Drive</td>\n      <td>Regular Gas and Electricity</td>\n      <td>1700.0</td>\n    </tr>\n    <tr>\n      <th>30</th>\n      <td>Front-Wheel Drive</td>\n      <td>CNG</td>\n      <td>1150.0</td>\n    </tr>\n    <tr>\n      <th>31</th>\n      <td>Front-Wheel Drive</td>\n      <td>Diesel</td>\n      <td>1450.0</td>\n    </tr>\n    <tr>\n      <th>32</th>\n      <td>Front-Wheel Drive</td>\n      <td>Electricity</td>\n      <td>600.0</td>\n    </tr>\n    <tr>\n      <th>33</th>\n      <td>Front-Wheel Drive</td>\n      <td>Gasoline or E85</td>\n      <td>1900.0</td>\n    </tr>\n    <tr>\n      <th>34</th>\n      <td>Front-Wheel Drive</td>\n      <td>Gasoline or natural gas</td>\n      <td>1850.0</td>\n    </tr>\n    <tr>\n      <th>35</th>\n      <td>Front-Wheel Drive</td>\n      <td>Midgrade</td>\n      <td>2000.0</td>\n    </tr>\n    <tr>\n      <th>36</th>\n      <td>Front-Wheel Drive</td>\n      <td>Premium</td>\n      <td>2350.0</td>\n    </tr>\n    <tr>\n      <th>37</th>\n      <td>Front-Wheel Drive</td>\n      <td>Premium Gas or Electricity</td>\n      <td>1400.0</td>\n    </tr>\n    <tr>\n      <th>38</th>\n      <td>Front-Wheel Drive</td>\n      <td>Premium and Electricity</td>\n      <td>1475.0</td>\n    </tr>\n    <tr>\n      <th>39</th>\n      <td>Front-Wheel Drive</td>\n      <td>Regular</td>\n      <td>1850.0</td>\n    </tr>\n    <tr>\n      <th>40</th>\n      <td>Front-Wheel Drive</td>\n      <td>Regular Gas and Electricity</td>\n      <td>1025.0</td>\n    </tr>\n    <tr>\n      <th>41</th>\n      <td>Front-Wheel Drive</td>\n      <td>Regular Gas or Electricity</td>\n      <td>1000.0</td>\n    </tr>\n    <tr>\n      <th>42</th>\n      <td>Part-time 4-Wheel Drive</td>\n      <td>Diesel</td>\n      <td>2150.0</td>\n    </tr>\n    <tr>\n      <th>43</th>\n      <td>Part-time 4-Wheel Drive</td>\n      <td>Gasoline or E85</td>\n      <td>2650.0</td>\n    </tr>\n    <tr>\n      <th>44</th>\n      <td>Part-time 4-Wheel Drive</td>\n      <td>Premium</td>\n      <td>4000.0</td>\n    </tr>\n    <tr>\n      <th>45</th>\n      <td>Part-time 4-Wheel Drive</td>\n      <td>Regular</td>\n      <td>2350.0</td>\n    </tr>\n    <tr>\n      <th>46</th>\n      <td>Rear-Wheel Drive</td>\n      <td>CNG</td>\n      <td>2550.0</td>\n    </tr>\n    <tr>\n      <th>47</th>\n      <td>Rear-Wheel Drive</td>\n      <td>Diesel</td>\n      <td>2500.0</td>\n    </tr>\n    <tr>\n      <th>48</th>\n      <td>Rear-Wheel Drive</td>\n      <td>Electricity</td>\n      <td>600.0</td>\n    </tr>\n    <tr>\n      <th>49</th>\n      <td>Rear-Wheel Drive</td>\n      <td>Gasoline or E85</td>\n      <td>2650.0</td>\n    </tr>\n    <tr>\n      <th>50</th>\n      <td>Rear-Wheel Drive</td>\n      <td>Gasoline or natural gas</td>\n      <td>3500.0</td>\n    </tr>\n    <tr>\n      <th>51</th>\n      <td>Rear-Wheel Drive</td>\n      <td>Gasoline or propane</td>\n      <td>3150.0</td>\n    </tr>\n    <tr>\n      <th>52</th>\n      <td>Rear-Wheel Drive</td>\n      <td>Midgrade</td>\n      <td>2650.0</td>\n    </tr>\n    <tr>\n      <th>53</th>\n      <td>Rear-Wheel Drive</td>\n      <td>Premium</td>\n      <td>2900.0</td>\n    </tr>\n    <tr>\n      <th>54</th>\n      <td>Rear-Wheel Drive</td>\n      <td>Premium Gas or Electricity</td>\n      <td>1500.0</td>\n    </tr>\n    <tr>\n      <th>55</th>\n      <td>Rear-Wheel Drive</td>\n      <td>Premium and Electricity</td>\n      <td>2000.0</td>\n    </tr>\n    <tr>\n      <th>56</th>\n      <td>Rear-Wheel Drive</td>\n      <td>Premium or E85</td>\n      <td>2600.0</td>\n    </tr>\n    <tr>\n      <th>57</th>\n      <td>Rear-Wheel Drive</td>\n      <td>Regular</td>\n      <td>2500.0</td>\n    </tr>\n  </tbody>\n</table>\n</div>"
     },
     "execution_count": 9,
     "metadata": {},
     "output_type": "execute_result"
    }
   ],
   "source": [
    "(\n",
    "    autos[[\"drive\", \"fuelType\", \"fuelCost08\"]]\n",
    "        .groupby([\"drive\", \"fuelType\"])\n",
    "        .median()\n",
    "        .rename({\"fuelCost08\": \"meanFuelCost\"}, axis=1)\n",
    "        .reset_index()\n",
    ")"
   ],
   "metadata": {
    "collapsed": false,
    "pycharm": {
     "name": "#%%\n"
    }
   }
  },
  {
   "cell_type": "markdown",
   "source": [
    "## Display of Jupyter variables\n",
    "\n",
    "DataSpell also allows us to easily view the variables we have created in our Jupyter environment, including metadata like `dtype`.\n",
    "\n",
    "## Autocompletion\n",
    "\n",
    "The autocomplete for Pandas is context-sensitive, meaning you can get appropriate suggestions for paths, column names, and methods."
   ],
   "metadata": {
    "collapsed": false,
    "pycharm": {
     "name": "#%% md\n"
    }
   }
  },
  {
   "cell_type": "code",
   "execution_count": 7,
   "outputs": [],
   "source": [
    "# Path completion\n",
    "sample = pd.read_csv(\"sample_df.csv\")"
   ],
   "metadata": {
    "collapsed": false,
    "pycharm": {
     "name": "#%%\n"
    }
   }
  },
  {
   "cell_type": "code",
   "execution_count": 9,
   "outputs": [
    {
     "data": {
      "text/plain": "a    1\nb    1\nc    1\nName: col1, dtype: int64"
     },
     "execution_count": 9,
     "metadata": {},
     "output_type": "execute_result"
    }
   ],
   "source": [
    "# Column and method completion\n",
    "(\n",
    "    sample[\"col1\"]\n",
    "        .value_counts()\n",
    ")"
   ],
   "metadata": {
    "collapsed": false,
    "pycharm": {
     "name": "#%%\n"
    }
   }
  },
  {
   "cell_type": "markdown",
   "source": [
    "## Inbuilt documentation\n",
    "\n",
    "DataSpell also has a couple of great features for accessing documentation:\n",
    "* Introspection\n",
    "* Documentation on hover"
   ],
   "metadata": {
    "collapsed": false,
    "pycharm": {
     "name": "#%% md\n"
    }
   }
  },
  {
   "cell_type": "code",
   "execution_count": 8,
   "outputs": [],
   "source": [
    "?autos.describe"
   ],
   "metadata": {
    "collapsed": false,
    "pycharm": {
     "name": "#%%\n"
    }
   }
  },
  {
   "cell_type": "code",
   "execution_count": null,
   "outputs": [],
   "source": [
    "autos.describe()"
   ],
   "metadata": {
    "collapsed": false,
    "pycharm": {
     "name": "#%%\n"
    }
   }
  },
  {
   "cell_type": "markdown",
   "source": [
    "## Commit diffs\n",
    "There is also very nice support for viewing the difference between commits of notebooks. Unlike in Github, these diffs render the notebook, allowing you to see the actual differences between notebooks.\n",
    "\n",
    "`Git > Log > Select any two commits > Changes > Arrows`\n",
    "\n",
    "Includes changes between DataFrames, allowing you to interact with the DataFrames within the diff."
   ],
   "metadata": {
    "collapsed": false,
    "pycharm": {
     "name": "#%% md\n"
    }
   }
  }
 ],
 "metadata": {
  "kernelspec": {
   "display_name": "Python 3",
   "language": "python",
   "name": "python3"
  },
  "language_info": {
   "codemirror_mode": {
    "name": "ipython",
    "version": 2
   },
   "file_extension": ".py",
   "mimetype": "text/x-python",
   "name": "python",
   "nbconvert_exporter": "python",
   "pygments_lexer": "ipython2",
   "version": "2.7.6"
  }
 },
 "nbformat": 4,
 "nbformat_minor": 0
}