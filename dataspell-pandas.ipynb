{
 "cells": [
  {
   "cell_type": "markdown",
   "source": [
    "# Using Pandas within DataSpell\n",
    "\n",
    "Support for Pandas DataFrames is a core part of the functionality of DataSpell. Here are a few of the features that make working with Pandas easier.\n",
    "\n",
    "## Interactive Pandas DataFrames\n",
    "\n",
    "Within DataSpell, users can interact with Pandas DataFrames. This includes:\n",
    "* displaying the entire DataFrame without trimming;\n",
    "* changing the column sizes for readability;\n",
    "* opening DataFrames in new tabs; and\n",
    "* being able to order, copy and save DataFrames."
   ],
   "metadata": {
    "collapsed": false,
    "pycharm": {
     "name": "#%% md\n"
    }
   }
  },
  {
   "cell_type": "code",
   "execution_count": 3,
   "outputs": [],
   "source": [
    "import pandas as pd"
   ],
   "metadata": {
    "collapsed": false,
    "pycharm": {
     "name": "#%%\n"
    }
   }
  },
  {
   "cell_type": "code",
   "execution_count": 4,
   "outputs": [
    {
     "name": "stderr",
     "output_type": "stream",
     "text": [
      "/var/folders/4g/2kb_r2ls6271vlhh6xr95q_w0000gn/T/ipykernel_83576/373335790.py:1: DtypeWarning: Columns (68,70,71,72,73,74,76,79) have mixed types. Specify dtype option on import or set low_memory=False.\n",
      "  autos = pd.read_csv('https://github.com/mattharrison/datasets/raw/master/data/vehicles.csv.zip')\n"
     ]
    }
   ],
   "source": [
    "autos = pd.read_csv('https://github.com/mattharrison/datasets/raw/master/data/vehicles.csv.zip')"
   ],
   "metadata": {
    "collapsed": false,
    "pycharm": {
     "name": "#%%\n"
    }
   }
  },
  {
   "cell_type": "code",
   "execution_count": 3,
   "outputs": [
    {
     "data": {
      "text/plain": "       barrels08  barrelsA08  charge120  charge240  city08  city08U  cityA08  \\\n0      15.695714         0.0        0.0        0.0      19      0.0        0   \n1      29.964545         0.0        0.0        0.0       9      0.0        0   \n2      12.207778         0.0        0.0        0.0      23      0.0        0   \n3      29.964545         0.0        0.0        0.0      10      0.0        0   \n4      17.347895         0.0        0.0        0.0      17      0.0        0   \n...          ...         ...        ...        ...     ...      ...      ...   \n41139  14.982273         0.0        0.0        0.0      19      0.0        0   \n41140  14.330870         0.0        0.0        0.0      20      0.0        0   \n41141  15.695714         0.0        0.0        0.0      18      0.0        0   \n41142  15.695714         0.0        0.0        0.0      18      0.0        0   \n41143  18.311667         0.0        0.0        0.0      16      0.0        0   \n\n       cityA08U  cityCD  cityE  ...  mfrCode  c240Dscr  charge240b  c240bDscr  \\\n0           0.0     0.0    0.0  ...      NaN       NaN         0.0        NaN   \n1           0.0     0.0    0.0  ...      NaN       NaN         0.0        NaN   \n2           0.0     0.0    0.0  ...      NaN       NaN         0.0        NaN   \n3           0.0     0.0    0.0  ...      NaN       NaN         0.0        NaN   \n4           0.0     0.0    0.0  ...      NaN       NaN         0.0        NaN   \n...         ...     ...    ...  ...      ...       ...         ...        ...   \n41139       0.0     0.0    0.0  ...      NaN       NaN         0.0        NaN   \n41140       0.0     0.0    0.0  ...      NaN       NaN         0.0        NaN   \n41141       0.0     0.0    0.0  ...      NaN       NaN         0.0        NaN   \n41142       0.0     0.0    0.0  ...      NaN       NaN         0.0        NaN   \n41143       0.0     0.0    0.0  ...      NaN       NaN         0.0        NaN   \n\n                          createdOn                    modifiedOn  startStop  \\\n0      Tue Jan 01 00:00:00 EST 2013  Tue Jan 01 00:00:00 EST 2013        NaN   \n1      Tue Jan 01 00:00:00 EST 2013  Tue Jan 01 00:00:00 EST 2013        NaN   \n2      Tue Jan 01 00:00:00 EST 2013  Tue Jan 01 00:00:00 EST 2013        NaN   \n3      Tue Jan 01 00:00:00 EST 2013  Tue Jan 01 00:00:00 EST 2013        NaN   \n4      Tue Jan 01 00:00:00 EST 2013  Tue Jan 01 00:00:00 EST 2013        NaN   \n...                             ...                           ...        ...   \n41139  Tue Jan 01 00:00:00 EST 2013  Tue Jan 01 00:00:00 EST 2013        NaN   \n41140  Tue Jan 01 00:00:00 EST 2013  Tue Jan 01 00:00:00 EST 2013        NaN   \n41141  Tue Jan 01 00:00:00 EST 2013  Tue Jan 01 00:00:00 EST 2013        NaN   \n41142  Tue Jan 01 00:00:00 EST 2013  Tue Jan 01 00:00:00 EST 2013        NaN   \n41143  Tue Jan 01 00:00:00 EST 2013  Tue Jan 01 00:00:00 EST 2013        NaN   \n\n       phevCity  phevHwy  phevComb  \n0             0        0         0  \n1             0        0         0  \n2             0        0         0  \n3             0        0         0  \n4             0        0         0  \n...         ...      ...       ...  \n41139         0        0         0  \n41140         0        0         0  \n41141         0        0         0  \n41142         0        0         0  \n41143         0        0         0  \n\n[41144 rows x 83 columns]",
      "text/html": "<div>\n<style scoped>\n    .dataframe tbody tr th:only-of-type {\n        vertical-align: middle;\n    }\n\n    .dataframe tbody tr th {\n        vertical-align: top;\n    }\n\n    .dataframe thead th {\n        text-align: right;\n    }\n</style>\n<table border=\"1\" class=\"dataframe\">\n  <thead>\n    <tr style=\"text-align: right;\">\n      <th></th>\n      <th>barrels08</th>\n      <th>barrelsA08</th>\n      <th>charge120</th>\n      <th>charge240</th>\n      <th>city08</th>\n      <th>city08U</th>\n      <th>cityA08</th>\n      <th>cityA08U</th>\n      <th>cityCD</th>\n      <th>cityE</th>\n      <th>...</th>\n      <th>mfrCode</th>\n      <th>c240Dscr</th>\n      <th>charge240b</th>\n      <th>c240bDscr</th>\n      <th>createdOn</th>\n      <th>modifiedOn</th>\n      <th>startStop</th>\n      <th>phevCity</th>\n      <th>phevHwy</th>\n      <th>phevComb</th>\n    </tr>\n  </thead>\n  <tbody>\n    <tr>\n      <th>0</th>\n      <td>15.695714</td>\n      <td>0.0</td>\n      <td>0.0</td>\n      <td>0.0</td>\n      <td>19</td>\n      <td>0.0</td>\n      <td>0</td>\n      <td>0.0</td>\n      <td>0.0</td>\n      <td>0.0</td>\n      <td>...</td>\n      <td>NaN</td>\n      <td>NaN</td>\n      <td>0.0</td>\n      <td>NaN</td>\n      <td>Tue Jan 01 00:00:00 EST 2013</td>\n      <td>Tue Jan 01 00:00:00 EST 2013</td>\n      <td>NaN</td>\n      <td>0</td>\n      <td>0</td>\n      <td>0</td>\n    </tr>\n    <tr>\n      <th>1</th>\n      <td>29.964545</td>\n      <td>0.0</td>\n      <td>0.0</td>\n      <td>0.0</td>\n      <td>9</td>\n      <td>0.0</td>\n      <td>0</td>\n      <td>0.0</td>\n      <td>0.0</td>\n      <td>0.0</td>\n      <td>...</td>\n      <td>NaN</td>\n      <td>NaN</td>\n      <td>0.0</td>\n      <td>NaN</td>\n      <td>Tue Jan 01 00:00:00 EST 2013</td>\n      <td>Tue Jan 01 00:00:00 EST 2013</td>\n      <td>NaN</td>\n      <td>0</td>\n      <td>0</td>\n      <td>0</td>\n    </tr>\n    <tr>\n      <th>2</th>\n      <td>12.207778</td>\n      <td>0.0</td>\n      <td>0.0</td>\n      <td>0.0</td>\n      <td>23</td>\n      <td>0.0</td>\n      <td>0</td>\n      <td>0.0</td>\n      <td>0.0</td>\n      <td>0.0</td>\n      <td>...</td>\n      <td>NaN</td>\n      <td>NaN</td>\n      <td>0.0</td>\n      <td>NaN</td>\n      <td>Tue Jan 01 00:00:00 EST 2013</td>\n      <td>Tue Jan 01 00:00:00 EST 2013</td>\n      <td>NaN</td>\n      <td>0</td>\n      <td>0</td>\n      <td>0</td>\n    </tr>\n    <tr>\n      <th>3</th>\n      <td>29.964545</td>\n      <td>0.0</td>\n      <td>0.0</td>\n      <td>0.0</td>\n      <td>10</td>\n      <td>0.0</td>\n      <td>0</td>\n      <td>0.0</td>\n      <td>0.0</td>\n      <td>0.0</td>\n      <td>...</td>\n      <td>NaN</td>\n      <td>NaN</td>\n      <td>0.0</td>\n      <td>NaN</td>\n      <td>Tue Jan 01 00:00:00 EST 2013</td>\n      <td>Tue Jan 01 00:00:00 EST 2013</td>\n      <td>NaN</td>\n      <td>0</td>\n      <td>0</td>\n      <td>0</td>\n    </tr>\n    <tr>\n      <th>4</th>\n      <td>17.347895</td>\n      <td>0.0</td>\n      <td>0.0</td>\n      <td>0.0</td>\n      <td>17</td>\n      <td>0.0</td>\n      <td>0</td>\n      <td>0.0</td>\n      <td>0.0</td>\n      <td>0.0</td>\n      <td>...</td>\n      <td>NaN</td>\n      <td>NaN</td>\n      <td>0.0</td>\n      <td>NaN</td>\n      <td>Tue Jan 01 00:00:00 EST 2013</td>\n      <td>Tue Jan 01 00:00:00 EST 2013</td>\n      <td>NaN</td>\n      <td>0</td>\n      <td>0</td>\n      <td>0</td>\n    </tr>\n    <tr>\n      <th>...</th>\n      <td>...</td>\n      <td>...</td>\n      <td>...</td>\n      <td>...</td>\n      <td>...</td>\n      <td>...</td>\n      <td>...</td>\n      <td>...</td>\n      <td>...</td>\n      <td>...</td>\n      <td>...</td>\n      <td>...</td>\n      <td>...</td>\n      <td>...</td>\n      <td>...</td>\n      <td>...</td>\n      <td>...</td>\n      <td>...</td>\n      <td>...</td>\n      <td>...</td>\n      <td>...</td>\n    </tr>\n    <tr>\n      <th>41139</th>\n      <td>14.982273</td>\n      <td>0.0</td>\n      <td>0.0</td>\n      <td>0.0</td>\n      <td>19</td>\n      <td>0.0</td>\n      <td>0</td>\n      <td>0.0</td>\n      <td>0.0</td>\n      <td>0.0</td>\n      <td>...</td>\n      <td>NaN</td>\n      <td>NaN</td>\n      <td>0.0</td>\n      <td>NaN</td>\n      <td>Tue Jan 01 00:00:00 EST 2013</td>\n      <td>Tue Jan 01 00:00:00 EST 2013</td>\n      <td>NaN</td>\n      <td>0</td>\n      <td>0</td>\n      <td>0</td>\n    </tr>\n    <tr>\n      <th>41140</th>\n      <td>14.330870</td>\n      <td>0.0</td>\n      <td>0.0</td>\n      <td>0.0</td>\n      <td>20</td>\n      <td>0.0</td>\n      <td>0</td>\n      <td>0.0</td>\n      <td>0.0</td>\n      <td>0.0</td>\n      <td>...</td>\n      <td>NaN</td>\n      <td>NaN</td>\n      <td>0.0</td>\n      <td>NaN</td>\n      <td>Tue Jan 01 00:00:00 EST 2013</td>\n      <td>Tue Jan 01 00:00:00 EST 2013</td>\n      <td>NaN</td>\n      <td>0</td>\n      <td>0</td>\n      <td>0</td>\n    </tr>\n    <tr>\n      <th>41141</th>\n      <td>15.695714</td>\n      <td>0.0</td>\n      <td>0.0</td>\n      <td>0.0</td>\n      <td>18</td>\n      <td>0.0</td>\n      <td>0</td>\n      <td>0.0</td>\n      <td>0.0</td>\n      <td>0.0</td>\n      <td>...</td>\n      <td>NaN</td>\n      <td>NaN</td>\n      <td>0.0</td>\n      <td>NaN</td>\n      <td>Tue Jan 01 00:00:00 EST 2013</td>\n      <td>Tue Jan 01 00:00:00 EST 2013</td>\n      <td>NaN</td>\n      <td>0</td>\n      <td>0</td>\n      <td>0</td>\n    </tr>\n    <tr>\n      <th>41142</th>\n      <td>15.695714</td>\n      <td>0.0</td>\n      <td>0.0</td>\n      <td>0.0</td>\n      <td>18</td>\n      <td>0.0</td>\n      <td>0</td>\n      <td>0.0</td>\n      <td>0.0</td>\n      <td>0.0</td>\n      <td>...</td>\n      <td>NaN</td>\n      <td>NaN</td>\n      <td>0.0</td>\n      <td>NaN</td>\n      <td>Tue Jan 01 00:00:00 EST 2013</td>\n      <td>Tue Jan 01 00:00:00 EST 2013</td>\n      <td>NaN</td>\n      <td>0</td>\n      <td>0</td>\n      <td>0</td>\n    </tr>\n    <tr>\n      <th>41143</th>\n      <td>18.311667</td>\n      <td>0.0</td>\n      <td>0.0</td>\n      <td>0.0</td>\n      <td>16</td>\n      <td>0.0</td>\n      <td>0</td>\n      <td>0.0</td>\n      <td>0.0</td>\n      <td>0.0</td>\n      <td>...</td>\n      <td>NaN</td>\n      <td>NaN</td>\n      <td>0.0</td>\n      <td>NaN</td>\n      <td>Tue Jan 01 00:00:00 EST 2013</td>\n      <td>Tue Jan 01 00:00:00 EST 2013</td>\n      <td>NaN</td>\n      <td>0</td>\n      <td>0</td>\n      <td>0</td>\n    </tr>\n  </tbody>\n</table>\n<p>41144 rows × 83 columns</p>\n</div>"
     },
     "execution_count": 3,
     "metadata": {},
     "output_type": "execute_result"
    }
   ],
   "source": [
    "autos"
   ],
   "metadata": {
    "collapsed": false,
    "pycharm": {
     "name": "#%%\n"
    }
   }
  },
  {
   "cell_type": "code",
   "execution_count": 10,
   "outputs": [
    {
     "data": {
      "text/plain": "                         drive                     fuelType  meanFuelCost\n0                2-Wheel Drive                       Diesel   2197.916667\n1                2-Wheel Drive                  Electricity   1307.142857\n2                2-Wheel Drive                      Premium   4000.000000\n3                2-Wheel Drive                      Regular   2752.857143\n4                4-Wheel Drive                       Diesel   2061.864407\n5                4-Wheel Drive                  Electricity    816.666667\n6                4-Wheel Drive              Gasoline or E85   2534.782609\n7                4-Wheel Drive                     Midgrade   2876.666667\n8                4-Wheel Drive                      Premium   2754.340836\n9                4-Wheel Drive      Premium and Electricity   2290.000000\n10               4-Wheel Drive               Premium or E85   2471.621622\n11               4-Wheel Drive                      Regular   2234.098940\n12  4-Wheel or All-Wheel Drive                          CNG   3650.000000\n13  4-Wheel or All-Wheel Drive                       Diesel   2737.555556\n14  4-Wheel or All-Wheel Drive              Gasoline or E85   2895.578231\n15  4-Wheel or All-Wheel Drive      Gasoline or natural gas   3675.000000\n16  4-Wheel or All-Wheel Drive          Gasoline or propane   3150.000000\n17  4-Wheel or All-Wheel Drive                      Premium   3061.073599\n18  4-Wheel or All-Wheel Drive               Premium or E85   2600.000000\n19  4-Wheel or All-Wheel Drive                      Regular   2641.649247\n20             All-Wheel Drive                       Diesel   1768.000000\n21             All-Wheel Drive                  Electricity    677.000000\n22             All-Wheel Drive              Gasoline or E85   2444.140625\n23             All-Wheel Drive                     Midgrade   2650.000000\n24             All-Wheel Drive                      Premium   2563.647566\n25             All-Wheel Drive   Premium Gas or Electricity   2394.117647\n26             All-Wheel Drive      Premium and Electricity   1942.307692\n27             All-Wheel Drive               Premium or E85   2915.555556\n28             All-Wheel Drive                      Regular   1923.640777\n29             All-Wheel Drive  Regular Gas and Electricity   1533.333333\n30           Front-Wheel Drive                          CNG   1281.250000\n31           Front-Wheel Drive                       Diesel   1462.500000\n32           Front-Wheel Drive                  Electricity    678.767123\n33           Front-Wheel Drive              Gasoline or E85   1901.735016\n34           Front-Wheel Drive      Gasoline or natural gas   1900.000000\n35           Front-Wheel Drive                     Midgrade   2033.333333\n36           Front-Wheel Drive                      Premium   2337.278351\n37           Front-Wheel Drive   Premium Gas or Electricity   1488.888889\n38           Front-Wheel Drive      Premium and Electricity   1450.000000\n39           Front-Wheel Drive                      Regular   1795.521246\n40           Front-Wheel Drive  Regular Gas and Electricity   1007.894737\n41           Front-Wheel Drive   Regular Gas or Electricity   1000.000000\n42     Part-time 4-Wheel Drive                       Diesel   2083.333333\n43     Part-time 4-Wheel Drive              Gasoline or E85   2604.237288\n44     Part-time 4-Wheel Drive                      Premium   3660.000000\n45     Part-time 4-Wheel Drive                      Regular   2445.664740\n46            Rear-Wheel Drive                          CNG   2617.647059\n47            Rear-Wheel Drive                       Diesel   2317.265193\n48            Rear-Wheel Drive                  Electricity    626.363636\n49            Rear-Wheel Drive              Gasoline or E85   2665.435606\n50            Rear-Wheel Drive      Gasoline or natural gas   3627.777778\n51            Rear-Wheel Drive          Gasoline or propane   3150.000000\n52            Rear-Wheel Drive                     Midgrade   2682.727273\n53            Rear-Wheel Drive                      Premium   2922.471596\n54            Rear-Wheel Drive   Premium Gas or Electricity   1705.000000\n55            Rear-Wheel Drive      Premium and Electricity   2002.777778\n56            Rear-Wheel Drive               Premium or E85   2555.681818\n57            Rear-Wheel Drive                      Regular   2564.707885",
      "text/html": "<div>\n<style scoped>\n    .dataframe tbody tr th:only-of-type {\n        vertical-align: middle;\n    }\n\n    .dataframe tbody tr th {\n        vertical-align: top;\n    }\n\n    .dataframe thead th {\n        text-align: right;\n    }\n</style>\n<table border=\"1\" class=\"dataframe\">\n  <thead>\n    <tr style=\"text-align: right;\">\n      <th></th>\n      <th>drive</th>\n      <th>fuelType</th>\n      <th>meanFuelCost</th>\n    </tr>\n  </thead>\n  <tbody>\n    <tr>\n      <th>0</th>\n      <td>2-Wheel Drive</td>\n      <td>Diesel</td>\n      <td>2197.916667</td>\n    </tr>\n    <tr>\n      <th>1</th>\n      <td>2-Wheel Drive</td>\n      <td>Electricity</td>\n      <td>1307.142857</td>\n    </tr>\n    <tr>\n      <th>2</th>\n      <td>2-Wheel Drive</td>\n      <td>Premium</td>\n      <td>4000.000000</td>\n    </tr>\n    <tr>\n      <th>3</th>\n      <td>2-Wheel Drive</td>\n      <td>Regular</td>\n      <td>2752.857143</td>\n    </tr>\n    <tr>\n      <th>4</th>\n      <td>4-Wheel Drive</td>\n      <td>Diesel</td>\n      <td>2061.864407</td>\n    </tr>\n    <tr>\n      <th>5</th>\n      <td>4-Wheel Drive</td>\n      <td>Electricity</td>\n      <td>816.666667</td>\n    </tr>\n    <tr>\n      <th>6</th>\n      <td>4-Wheel Drive</td>\n      <td>Gasoline or E85</td>\n      <td>2534.782609</td>\n    </tr>\n    <tr>\n      <th>7</th>\n      <td>4-Wheel Drive</td>\n      <td>Midgrade</td>\n      <td>2876.666667</td>\n    </tr>\n    <tr>\n      <th>8</th>\n      <td>4-Wheel Drive</td>\n      <td>Premium</td>\n      <td>2754.340836</td>\n    </tr>\n    <tr>\n      <th>9</th>\n      <td>4-Wheel Drive</td>\n      <td>Premium and Electricity</td>\n      <td>2290.000000</td>\n    </tr>\n    <tr>\n      <th>10</th>\n      <td>4-Wheel Drive</td>\n      <td>Premium or E85</td>\n      <td>2471.621622</td>\n    </tr>\n    <tr>\n      <th>11</th>\n      <td>4-Wheel Drive</td>\n      <td>Regular</td>\n      <td>2234.098940</td>\n    </tr>\n    <tr>\n      <th>12</th>\n      <td>4-Wheel or All-Wheel Drive</td>\n      <td>CNG</td>\n      <td>3650.000000</td>\n    </tr>\n    <tr>\n      <th>13</th>\n      <td>4-Wheel or All-Wheel Drive</td>\n      <td>Diesel</td>\n      <td>2737.555556</td>\n    </tr>\n    <tr>\n      <th>14</th>\n      <td>4-Wheel or All-Wheel Drive</td>\n      <td>Gasoline or E85</td>\n      <td>2895.578231</td>\n    </tr>\n    <tr>\n      <th>15</th>\n      <td>4-Wheel or All-Wheel Drive</td>\n      <td>Gasoline or natural gas</td>\n      <td>3675.000000</td>\n    </tr>\n    <tr>\n      <th>16</th>\n      <td>4-Wheel or All-Wheel Drive</td>\n      <td>Gasoline or propane</td>\n      <td>3150.000000</td>\n    </tr>\n    <tr>\n      <th>17</th>\n      <td>4-Wheel or All-Wheel Drive</td>\n      <td>Premium</td>\n      <td>3061.073599</td>\n    </tr>\n    <tr>\n      <th>18</th>\n      <td>4-Wheel or All-Wheel Drive</td>\n      <td>Premium or E85</td>\n      <td>2600.000000</td>\n    </tr>\n    <tr>\n      <th>19</th>\n      <td>4-Wheel or All-Wheel Drive</td>\n      <td>Regular</td>\n      <td>2641.649247</td>\n    </tr>\n    <tr>\n      <th>20</th>\n      <td>All-Wheel Drive</td>\n      <td>Diesel</td>\n      <td>1768.000000</td>\n    </tr>\n    <tr>\n      <th>21</th>\n      <td>All-Wheel Drive</td>\n      <td>Electricity</td>\n      <td>677.000000</td>\n    </tr>\n    <tr>\n      <th>22</th>\n      <td>All-Wheel Drive</td>\n      <td>Gasoline or E85</td>\n      <td>2444.140625</td>\n    </tr>\n    <tr>\n      <th>23</th>\n      <td>All-Wheel Drive</td>\n      <td>Midgrade</td>\n      <td>2650.000000</td>\n    </tr>\n    <tr>\n      <th>24</th>\n      <td>All-Wheel Drive</td>\n      <td>Premium</td>\n      <td>2563.647566</td>\n    </tr>\n    <tr>\n      <th>25</th>\n      <td>All-Wheel Drive</td>\n      <td>Premium Gas or Electricity</td>\n      <td>2394.117647</td>\n    </tr>\n    <tr>\n      <th>26</th>\n      <td>All-Wheel Drive</td>\n      <td>Premium and Electricity</td>\n      <td>1942.307692</td>\n    </tr>\n    <tr>\n      <th>27</th>\n      <td>All-Wheel Drive</td>\n      <td>Premium or E85</td>\n      <td>2915.555556</td>\n    </tr>\n    <tr>\n      <th>28</th>\n      <td>All-Wheel Drive</td>\n      <td>Regular</td>\n      <td>1923.640777</td>\n    </tr>\n    <tr>\n      <th>29</th>\n      <td>All-Wheel Drive</td>\n      <td>Regular Gas and Electricity</td>\n      <td>1533.333333</td>\n    </tr>\n    <tr>\n      <th>30</th>\n      <td>Front-Wheel Drive</td>\n      <td>CNG</td>\n      <td>1281.250000</td>\n    </tr>\n    <tr>\n      <th>31</th>\n      <td>Front-Wheel Drive</td>\n      <td>Diesel</td>\n      <td>1462.500000</td>\n    </tr>\n    <tr>\n      <th>32</th>\n      <td>Front-Wheel Drive</td>\n      <td>Electricity</td>\n      <td>678.767123</td>\n    </tr>\n    <tr>\n      <th>33</th>\n      <td>Front-Wheel Drive</td>\n      <td>Gasoline or E85</td>\n      <td>1901.735016</td>\n    </tr>\n    <tr>\n      <th>34</th>\n      <td>Front-Wheel Drive</td>\n      <td>Gasoline or natural gas</td>\n      <td>1900.000000</td>\n    </tr>\n    <tr>\n      <th>35</th>\n      <td>Front-Wheel Drive</td>\n      <td>Midgrade</td>\n      <td>2033.333333</td>\n    </tr>\n    <tr>\n      <th>36</th>\n      <td>Front-Wheel Drive</td>\n      <td>Premium</td>\n      <td>2337.278351</td>\n    </tr>\n    <tr>\n      <th>37</th>\n      <td>Front-Wheel Drive</td>\n      <td>Premium Gas or Electricity</td>\n      <td>1488.888889</td>\n    </tr>\n    <tr>\n      <th>38</th>\n      <td>Front-Wheel Drive</td>\n      <td>Premium and Electricity</td>\n      <td>1450.000000</td>\n    </tr>\n    <tr>\n      <th>39</th>\n      <td>Front-Wheel Drive</td>\n      <td>Regular</td>\n      <td>1795.521246</td>\n    </tr>\n    <tr>\n      <th>40</th>\n      <td>Front-Wheel Drive</td>\n      <td>Regular Gas and Electricity</td>\n      <td>1007.894737</td>\n    </tr>\n    <tr>\n      <th>41</th>\n      <td>Front-Wheel Drive</td>\n      <td>Regular Gas or Electricity</td>\n      <td>1000.000000</td>\n    </tr>\n    <tr>\n      <th>42</th>\n      <td>Part-time 4-Wheel Drive</td>\n      <td>Diesel</td>\n      <td>2083.333333</td>\n    </tr>\n    <tr>\n      <th>43</th>\n      <td>Part-time 4-Wheel Drive</td>\n      <td>Gasoline or E85</td>\n      <td>2604.237288</td>\n    </tr>\n    <tr>\n      <th>44</th>\n      <td>Part-time 4-Wheel Drive</td>\n      <td>Premium</td>\n      <td>3660.000000</td>\n    </tr>\n    <tr>\n      <th>45</th>\n      <td>Part-time 4-Wheel Drive</td>\n      <td>Regular</td>\n      <td>2445.664740</td>\n    </tr>\n    <tr>\n      <th>46</th>\n      <td>Rear-Wheel Drive</td>\n      <td>CNG</td>\n      <td>2617.647059</td>\n    </tr>\n    <tr>\n      <th>47</th>\n      <td>Rear-Wheel Drive</td>\n      <td>Diesel</td>\n      <td>2317.265193</td>\n    </tr>\n    <tr>\n      <th>48</th>\n      <td>Rear-Wheel Drive</td>\n      <td>Electricity</td>\n      <td>626.363636</td>\n    </tr>\n    <tr>\n      <th>49</th>\n      <td>Rear-Wheel Drive</td>\n      <td>Gasoline or E85</td>\n      <td>2665.435606</td>\n    </tr>\n    <tr>\n      <th>50</th>\n      <td>Rear-Wheel Drive</td>\n      <td>Gasoline or natural gas</td>\n      <td>3627.777778</td>\n    </tr>\n    <tr>\n      <th>51</th>\n      <td>Rear-Wheel Drive</td>\n      <td>Gasoline or propane</td>\n      <td>3150.000000</td>\n    </tr>\n    <tr>\n      <th>52</th>\n      <td>Rear-Wheel Drive</td>\n      <td>Midgrade</td>\n      <td>2682.727273</td>\n    </tr>\n    <tr>\n      <th>53</th>\n      <td>Rear-Wheel Drive</td>\n      <td>Premium</td>\n      <td>2922.471596</td>\n    </tr>\n    <tr>\n      <th>54</th>\n      <td>Rear-Wheel Drive</td>\n      <td>Premium Gas or Electricity</td>\n      <td>1705.000000</td>\n    </tr>\n    <tr>\n      <th>55</th>\n      <td>Rear-Wheel Drive</td>\n      <td>Premium and Electricity</td>\n      <td>2002.777778</td>\n    </tr>\n    <tr>\n      <th>56</th>\n      <td>Rear-Wheel Drive</td>\n      <td>Premium or E85</td>\n      <td>2555.681818</td>\n    </tr>\n    <tr>\n      <th>57</th>\n      <td>Rear-Wheel Drive</td>\n      <td>Regular</td>\n      <td>2564.707885</td>\n    </tr>\n  </tbody>\n</table>\n</div>"
     },
     "execution_count": 10,
     "metadata": {},
     "output_type": "execute_result"
    }
   ],
   "source": [
    "(\n",
    "    autos[[\"drive\", \"fuelType\", \"fuelCost08\"]]\n",
    "        .groupby([\"drive\", \"fuelType\"])\n",
    "        .mean()\n",
    "        .rename({\"fuelCost08\": \"meanFuelCost\"}, axis=1)\n",
    "        .reset_index()\n",
    ")"
   ],
   "metadata": {
    "collapsed": false,
    "pycharm": {
     "name": "#%%\n"
    }
   }
  },
  {
   "cell_type": "markdown",
   "source": [
    "## Display of Jupyter variables\n",
    "\n",
    "DataSpell also allows us to easily view the variables we have created in our Jupyter environment, including metadata like `dtype`.\n",
    "\n",
    "## Autocompletion\n",
    "\n",
    "The autocomplete for Pandas is context-sensitive, meaning you can get appropriate suggestions for paths, column names, and methods."
   ],
   "metadata": {
    "collapsed": false,
    "pycharm": {
     "name": "#%% md\n"
    }
   }
  },
  {
   "cell_type": "code",
   "execution_count": 7,
   "outputs": [],
   "source": [
    "# Path completion\n",
    "sample = pd.read_csv(\"sample_df.csv\")"
   ],
   "metadata": {
    "collapsed": false,
    "pycharm": {
     "name": "#%%\n"
    }
   }
  },
  {
   "cell_type": "code",
   "execution_count": 9,
   "outputs": [
    {
     "data": {
      "text/plain": "a    1\nb    1\nc    1\nName: col1, dtype: int64"
     },
     "execution_count": 9,
     "metadata": {},
     "output_type": "execute_result"
    }
   ],
   "source": [
    "# Column and method completion\n",
    "(\n",
    "    sample[\"col1\"]\n",
    "        .value_counts()\n",
    ")"
   ],
   "metadata": {
    "collapsed": false,
    "pycharm": {
     "name": "#%%\n"
    }
   }
  },
  {
   "cell_type": "markdown",
   "source": [
    "## Inbuilt documentation\n",
    "\n",
    "DataSpell also has a couple of great features for accessing documentation:\n",
    "* Introspection\n",
    "* Documentation on hover"
   ],
   "metadata": {
    "collapsed": false,
    "pycharm": {
     "name": "#%% md\n"
    }
   }
  },
  {
   "cell_type": "markdown",
   "source": [
    "## Commit diffs\n",
    "There is also very nice support for viewing the difference between commits of notebooks. Unlike in Github, these diffs render the notebook, allowing you to see the actual differences between notebooks."
   ],
   "metadata": {
    "collapsed": false,
    "pycharm": {
     "name": "#%% md\n"
    }
   }
  }
 ],
 "metadata": {
  "kernelspec": {
   "display_name": "Python 3",
   "language": "python",
   "name": "python3"
  },
  "language_info": {
   "codemirror_mode": {
    "name": "ipython",
    "version": 2
   },
   "file_extension": ".py",
   "mimetype": "text/x-python",
   "name": "python",
   "nbconvert_exporter": "python",
   "pygments_lexer": "ipython2",
   "version": "2.7.6"
  }
 },
 "nbformat": 4,
 "nbformat_minor": 0
}